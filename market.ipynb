{
 "cells": [
  {
   "cell_type": "code",
   "execution_count": 8,
   "metadata": {},
   "outputs": [],
   "source": [
    "from datetime import date, timedelta, datetime\n",
    "import pandas as pd\n",
    "from util import generate_quarters, saveDataToDatabase\n",
    "import requests"
   ]
  },
  {
   "cell_type": "code",
   "execution_count": 9,
   "metadata": {},
   "outputs": [],
   "source": [
    "api_key = \"2b2bbacbc149bcba58903f591ae3d3c8\"\n",
    "market_url = \"https://financialmodelingprep.com/api/v3/is-the-market-open\""
   ]
  },
  {
   "cell_type": "code",
   "execution_count": 10,
   "metadata": {},
   "outputs": [],
   "source": [
    "params = {\n",
    "    \"apikey\": api_key,\n",
    "    }"
   ]
  },
  {
   "cell_type": "code",
   "execution_count": 11,
   "metadata": {},
   "outputs": [],
   "source": [
    "response = requests.get(market_url, params=params)\n",
    "data = response.json()"
   ]
  },
  {
   "cell_type": "code",
   "execution_count": 12,
   "metadata": {},
   "outputs": [],
   "source": [
    "holidays=[]\n",
    "for holiday_year in data['stockMarketHolidays']:\n",
    "  for holiday_name, holiday_date in holiday_year.items():\n",
    "    if holiday_name != 'year' and holiday_date is not None:\n",
    "      holidays.append((datetime.strptime(str(holiday_date), \"%Y-%m-%d\"), 'close', holiday_name))"
   ]
  },
  {
   "cell_type": "code",
   "execution_count": 13,
   "metadata": {},
   "outputs": [],
   "source": [
    "holidays_df = pd.DataFrame(holidays, columns=['dtDate', 'marketStatus', 'holiday'])"
   ]
  },
  {
   "cell_type": "code",
   "execution_count": 14,
   "metadata": {},
   "outputs": [
    {
     "data": {
      "text/html": [
       "<div>\n",
       "<style scoped>\n",
       "    .dataframe tbody tr th:only-of-type {\n",
       "        vertical-align: middle;\n",
       "    }\n",
       "\n",
       "    .dataframe tbody tr th {\n",
       "        vertical-align: top;\n",
       "    }\n",
       "\n",
       "    .dataframe thead th {\n",
       "        text-align: right;\n",
       "    }\n",
       "</style>\n",
       "<table border=\"1\" class=\"dataframe\">\n",
       "  <thead>\n",
       "    <tr style=\"text-align: right;\">\n",
       "      <th></th>\n",
       "      <th>dtDate</th>\n",
       "      <th>marketStatus</th>\n",
       "      <th>holiday</th>\n",
       "    </tr>\n",
       "  </thead>\n",
       "  <tbody>\n",
       "    <tr>\n",
       "      <th>0</th>\n",
       "      <td>2019-01-01</td>\n",
       "      <td>close</td>\n",
       "      <td>New Years Day</td>\n",
       "    </tr>\n",
       "    <tr>\n",
       "      <th>1</th>\n",
       "      <td>2019-01-21</td>\n",
       "      <td>close</td>\n",
       "      <td>Martin Luther King, Jr. Day</td>\n",
       "    </tr>\n",
       "    <tr>\n",
       "      <th>2</th>\n",
       "      <td>2019-02-18</td>\n",
       "      <td>close</td>\n",
       "      <td>Washington's Birthday</td>\n",
       "    </tr>\n",
       "    <tr>\n",
       "      <th>3</th>\n",
       "      <td>2019-04-19</td>\n",
       "      <td>close</td>\n",
       "      <td>Good Friday</td>\n",
       "    </tr>\n",
       "    <tr>\n",
       "      <th>4</th>\n",
       "      <td>2019-05-27</td>\n",
       "      <td>close</td>\n",
       "      <td>Memorial Day</td>\n",
       "    </tr>\n",
       "  </tbody>\n",
       "</table>\n",
       "</div>"
      ],
      "text/plain": [
       "      dtDate marketStatus                      holiday\n",
       "0 2019-01-01        close                New Years Day\n",
       "1 2019-01-21        close  Martin Luther King, Jr. Day\n",
       "2 2019-02-18        close        Washington's Birthday\n",
       "3 2019-04-19        close                  Good Friday\n",
       "4 2019-05-27        close                 Memorial Day"
      ]
     },
     "execution_count": 14,
     "metadata": {},
     "output_type": "execute_result"
    }
   ],
   "source": [
    "holidays_df.head()"
   ]
  },
  {
   "cell_type": "code",
   "execution_count": 15,
   "metadata": {},
   "outputs": [],
   "source": [
    "date_range = pd.date_range(start='2019-01-01', end='2024-12-31', freq='D')"
   ]
  },
  {
   "cell_type": "code",
   "execution_count": 16,
   "metadata": {},
   "outputs": [
    {
     "data": {
      "text/html": [
       "<div>\n",
       "<style scoped>\n",
       "    .dataframe tbody tr th:only-of-type {\n",
       "        vertical-align: middle;\n",
       "    }\n",
       "\n",
       "    .dataframe tbody tr th {\n",
       "        vertical-align: top;\n",
       "    }\n",
       "\n",
       "    .dataframe thead th {\n",
       "        text-align: right;\n",
       "    }\n",
       "</style>\n",
       "<table border=\"1\" class=\"dataframe\">\n",
       "  <thead>\n",
       "    <tr style=\"text-align: right;\">\n",
       "      <th></th>\n",
       "      <th>dtDate</th>\n",
       "    </tr>\n",
       "  </thead>\n",
       "  <tbody>\n",
       "    <tr>\n",
       "      <th>0</th>\n",
       "      <td>2019-01-01</td>\n",
       "    </tr>\n",
       "    <tr>\n",
       "      <th>1</th>\n",
       "      <td>2019-01-02</td>\n",
       "    </tr>\n",
       "    <tr>\n",
       "      <th>2</th>\n",
       "      <td>2019-01-03</td>\n",
       "    </tr>\n",
       "    <tr>\n",
       "      <th>3</th>\n",
       "      <td>2019-01-04</td>\n",
       "    </tr>\n",
       "    <tr>\n",
       "      <th>4</th>\n",
       "      <td>2019-01-05</td>\n",
       "    </tr>\n",
       "  </tbody>\n",
       "</table>\n",
       "</div>"
      ],
      "text/plain": [
       "      dtDate\n",
       "0 2019-01-01\n",
       "1 2019-01-02\n",
       "2 2019-01-03\n",
       "3 2019-01-04\n",
       "4 2019-01-05"
      ]
     },
     "execution_count": 16,
     "metadata": {},
     "output_type": "execute_result"
    }
   ],
   "source": [
    "date_range_df = pd.DataFrame({'dtDate': date_range})\n",
    "date_range_df.head()"
   ]
  },
  {
   "cell_type": "code",
   "execution_count": 17,
   "metadata": {},
   "outputs": [],
   "source": [
    "merge_df = pd.merge(date_range_df, holidays_df, how=\"left\", on=\"dtDate\")"
   ]
  },
  {
   "cell_type": "code",
   "execution_count": 18,
   "metadata": {},
   "outputs": [],
   "source": [
    "merge_df['marketStatus'].fillna('open', inplace=True)"
   ]
  },
  {
   "cell_type": "code",
   "execution_count": 19,
   "metadata": {},
   "outputs": [],
   "source": [
    "independence_day_mask = merge_df['holiday'] == 'Independence Day'\n",
    "merge_df.loc[independence_day_mask.shift(-1).fillna(False), 'marketStatus'] = 'half'\n",
    "merge_df.loc[independence_day_mask, 'marketStatus'] = 'close'"
   ]
  },
  {
   "cell_type": "code",
   "execution_count": 20,
   "metadata": {},
   "outputs": [],
   "source": [
    "thanksgiving_day_mask = merge_df['holiday'] == 'Thanksgiving Day'\n",
    "christmas_mask = merge_df['holiday'] == 'Christmas'\n",
    "merge_df.loc[thanksgiving_day_mask.shift(1).fillna(False), 'marketStatus'] = 'half'\n",
    "merge_df.loc[thanksgiving_day_mask, 'marketStatus'] = 'close'\n",
    "merge_df.loc[christmas_mask.shift(1).fillna(False), 'marketStatus'] = 'half'\n",
    "merge_df.loc[christmas_mask, 'marketStatus'] = 'close'"
   ]
  },
  {
   "cell_type": "code",
   "execution_count": 21,
   "metadata": {},
   "outputs": [],
   "source": [
    "merge_df.loc[merge_df['dtDate'].dt.dayofweek.isin([5, 6]), 'marketStatus'] = 'close'"
   ]
  },
  {
   "cell_type": "code",
   "execution_count": 22,
   "metadata": {},
   "outputs": [],
   "source": [
    "merge_df.drop('holiday', axis=1, inplace=True)"
   ]
  },
  {
   "cell_type": "code",
   "execution_count": 23,
   "metadata": {},
   "outputs": [],
   "source": [
    "open_mask = merge_df['marketStatus'] == 'open'\n",
    "merge_df.loc[open_mask, 'openingHour'] = data['stockMarketHours']['openingHour']\n",
    "merge_df.loc[open_mask, 'closingHour'] = data['stockMarketHours']['closingHour']"
   ]
  },
  {
   "cell_type": "code",
   "execution_count": 24,
   "metadata": {},
   "outputs": [],
   "source": [
    "half_mask = merge_df['marketStatus'] == 'half'\n",
    "merge_df.loc[half_mask, 'openingHour'] = data['stockMarketHours']['openingHour']\n",
    "merge_df.loc[half_mask, 'closingHour'] = \"01:00 p.m. ET\""
   ]
  },
  {
   "cell_type": "code",
   "execution_count": 25,
   "metadata": {},
   "outputs": [
    {
     "data": {
      "text/html": [
       "<div>\n",
       "<style scoped>\n",
       "    .dataframe tbody tr th:only-of-type {\n",
       "        vertical-align: middle;\n",
       "    }\n",
       "\n",
       "    .dataframe tbody tr th {\n",
       "        vertical-align: top;\n",
       "    }\n",
       "\n",
       "    .dataframe thead th {\n",
       "        text-align: right;\n",
       "    }\n",
       "</style>\n",
       "<table border=\"1\" class=\"dataframe\">\n",
       "  <thead>\n",
       "    <tr style=\"text-align: right;\">\n",
       "      <th></th>\n",
       "      <th>dtDate</th>\n",
       "      <th>marketStatus</th>\n",
       "      <th>openingHour</th>\n",
       "      <th>closingHour</th>\n",
       "    </tr>\n",
       "  </thead>\n",
       "  <tbody>\n",
       "    <tr>\n",
       "      <th>2182</th>\n",
       "      <td>2024-12-22</td>\n",
       "      <td>close</td>\n",
       "      <td>NaN</td>\n",
       "      <td>NaN</td>\n",
       "    </tr>\n",
       "    <tr>\n",
       "      <th>2183</th>\n",
       "      <td>2024-12-23</td>\n",
       "      <td>open</td>\n",
       "      <td>09:30 a.m. ET</td>\n",
       "      <td>04:00 p.m. ET</td>\n",
       "    </tr>\n",
       "    <tr>\n",
       "      <th>2184</th>\n",
       "      <td>2024-12-24</td>\n",
       "      <td>open</td>\n",
       "      <td>09:30 a.m. ET</td>\n",
       "      <td>04:00 p.m. ET</td>\n",
       "    </tr>\n",
       "    <tr>\n",
       "      <th>2185</th>\n",
       "      <td>2024-12-25</td>\n",
       "      <td>close</td>\n",
       "      <td>NaN</td>\n",
       "      <td>NaN</td>\n",
       "    </tr>\n",
       "    <tr>\n",
       "      <th>2186</th>\n",
       "      <td>2024-12-26</td>\n",
       "      <td>half</td>\n",
       "      <td>09:30 a.m. ET</td>\n",
       "      <td>01:00 p.m. ET</td>\n",
       "    </tr>\n",
       "    <tr>\n",
       "      <th>2187</th>\n",
       "      <td>2024-12-27</td>\n",
       "      <td>open</td>\n",
       "      <td>09:30 a.m. ET</td>\n",
       "      <td>04:00 p.m. ET</td>\n",
       "    </tr>\n",
       "    <tr>\n",
       "      <th>2188</th>\n",
       "      <td>2024-12-28</td>\n",
       "      <td>close</td>\n",
       "      <td>NaN</td>\n",
       "      <td>NaN</td>\n",
       "    </tr>\n",
       "    <tr>\n",
       "      <th>2189</th>\n",
       "      <td>2024-12-29</td>\n",
       "      <td>close</td>\n",
       "      <td>NaN</td>\n",
       "      <td>NaN</td>\n",
       "    </tr>\n",
       "    <tr>\n",
       "      <th>2190</th>\n",
       "      <td>2024-12-30</td>\n",
       "      <td>open</td>\n",
       "      <td>09:30 a.m. ET</td>\n",
       "      <td>04:00 p.m. ET</td>\n",
       "    </tr>\n",
       "    <tr>\n",
       "      <th>2191</th>\n",
       "      <td>2024-12-31</td>\n",
       "      <td>open</td>\n",
       "      <td>09:30 a.m. ET</td>\n",
       "      <td>04:00 p.m. ET</td>\n",
       "    </tr>\n",
       "  </tbody>\n",
       "</table>\n",
       "</div>"
      ],
      "text/plain": [
       "         dtDate marketStatus    openingHour    closingHour\n",
       "2182 2024-12-22        close            NaN            NaN\n",
       "2183 2024-12-23         open  09:30 a.m. ET  04:00 p.m. ET\n",
       "2184 2024-12-24         open  09:30 a.m. ET  04:00 p.m. ET\n",
       "2185 2024-12-25        close            NaN            NaN\n",
       "2186 2024-12-26         half  09:30 a.m. ET  01:00 p.m. ET\n",
       "2187 2024-12-27         open  09:30 a.m. ET  04:00 p.m. ET\n",
       "2188 2024-12-28        close            NaN            NaN\n",
       "2189 2024-12-29        close            NaN            NaN\n",
       "2190 2024-12-30         open  09:30 a.m. ET  04:00 p.m. ET\n",
       "2191 2024-12-31         open  09:30 a.m. ET  04:00 p.m. ET"
      ]
     },
     "execution_count": 25,
     "metadata": {},
     "output_type": "execute_result"
    }
   ],
   "source": [
    "merge_df.tail(10)"
   ]
  },
  {
   "cell_type": "code",
   "execution_count": 26,
   "metadata": {},
   "outputs": [],
   "source": [
    "merge_df.loc[open_mask, 'preMarket'] = '4:00am - 9:30am ET'\n",
    "merge_df.loc[open_mask, 'postMarket'] = '4:00pm - 8:00pm ET'"
   ]
  },
  {
   "cell_type": "code",
   "execution_count": 27,
   "metadata": {},
   "outputs": [],
   "source": [
    "merge_df[\"break\"] = 0\n",
    "merge_df[\"country\"] = 'USA'"
   ]
  },
  {
   "cell_type": "code",
   "execution_count": 28,
   "metadata": {},
   "outputs": [],
   "source": [
    "merge_df[\"stockExchange\"] = data[\"stockExchangeName\"]"
   ]
  },
  {
   "cell_type": "code",
   "execution_count": 29,
   "metadata": {},
   "outputs": [
    {
     "data": {
      "text/html": [
       "<div>\n",
       "<style scoped>\n",
       "    .dataframe tbody tr th:only-of-type {\n",
       "        vertical-align: middle;\n",
       "    }\n",
       "\n",
       "    .dataframe tbody tr th {\n",
       "        vertical-align: top;\n",
       "    }\n",
       "\n",
       "    .dataframe thead th {\n",
       "        text-align: right;\n",
       "    }\n",
       "</style>\n",
       "<table border=\"1\" class=\"dataframe\">\n",
       "  <thead>\n",
       "    <tr style=\"text-align: right;\">\n",
       "      <th></th>\n",
       "      <th>dtDate</th>\n",
       "      <th>marketStatus</th>\n",
       "      <th>openingHour</th>\n",
       "      <th>closingHour</th>\n",
       "      <th>preMarket</th>\n",
       "      <th>postMarket</th>\n",
       "      <th>break</th>\n",
       "      <th>country</th>\n",
       "      <th>stockExchange</th>\n",
       "    </tr>\n",
       "  </thead>\n",
       "  <tbody>\n",
       "    <tr>\n",
       "      <th>0</th>\n",
       "      <td>2019-01-01</td>\n",
       "      <td>close</td>\n",
       "      <td>NaN</td>\n",
       "      <td>NaN</td>\n",
       "      <td>NaN</td>\n",
       "      <td>NaN</td>\n",
       "      <td>0</td>\n",
       "      <td>USA</td>\n",
       "      <td>New York Stock Exchange</td>\n",
       "    </tr>\n",
       "    <tr>\n",
       "      <th>1</th>\n",
       "      <td>2019-01-02</td>\n",
       "      <td>open</td>\n",
       "      <td>09:30 a.m. ET</td>\n",
       "      <td>04:00 p.m. ET</td>\n",
       "      <td>4:00am - 9:30am ET</td>\n",
       "      <td>4:00pm - 8:00pm ET</td>\n",
       "      <td>0</td>\n",
       "      <td>USA</td>\n",
       "      <td>New York Stock Exchange</td>\n",
       "    </tr>\n",
       "    <tr>\n",
       "      <th>2</th>\n",
       "      <td>2019-01-03</td>\n",
       "      <td>open</td>\n",
       "      <td>09:30 a.m. ET</td>\n",
       "      <td>04:00 p.m. ET</td>\n",
       "      <td>4:00am - 9:30am ET</td>\n",
       "      <td>4:00pm - 8:00pm ET</td>\n",
       "      <td>0</td>\n",
       "      <td>USA</td>\n",
       "      <td>New York Stock Exchange</td>\n",
       "    </tr>\n",
       "    <tr>\n",
       "      <th>3</th>\n",
       "      <td>2019-01-04</td>\n",
       "      <td>open</td>\n",
       "      <td>09:30 a.m. ET</td>\n",
       "      <td>04:00 p.m. ET</td>\n",
       "      <td>4:00am - 9:30am ET</td>\n",
       "      <td>4:00pm - 8:00pm ET</td>\n",
       "      <td>0</td>\n",
       "      <td>USA</td>\n",
       "      <td>New York Stock Exchange</td>\n",
       "    </tr>\n",
       "    <tr>\n",
       "      <th>4</th>\n",
       "      <td>2019-01-05</td>\n",
       "      <td>close</td>\n",
       "      <td>NaN</td>\n",
       "      <td>NaN</td>\n",
       "      <td>NaN</td>\n",
       "      <td>NaN</td>\n",
       "      <td>0</td>\n",
       "      <td>USA</td>\n",
       "      <td>New York Stock Exchange</td>\n",
       "    </tr>\n",
       "    <tr>\n",
       "      <th>...</th>\n",
       "      <td>...</td>\n",
       "      <td>...</td>\n",
       "      <td>...</td>\n",
       "      <td>...</td>\n",
       "      <td>...</td>\n",
       "      <td>...</td>\n",
       "      <td>...</td>\n",
       "      <td>...</td>\n",
       "      <td>...</td>\n",
       "    </tr>\n",
       "    <tr>\n",
       "      <th>2187</th>\n",
       "      <td>2024-12-27</td>\n",
       "      <td>open</td>\n",
       "      <td>09:30 a.m. ET</td>\n",
       "      <td>04:00 p.m. ET</td>\n",
       "      <td>4:00am - 9:30am ET</td>\n",
       "      <td>4:00pm - 8:00pm ET</td>\n",
       "      <td>0</td>\n",
       "      <td>USA</td>\n",
       "      <td>New York Stock Exchange</td>\n",
       "    </tr>\n",
       "    <tr>\n",
       "      <th>2188</th>\n",
       "      <td>2024-12-28</td>\n",
       "      <td>close</td>\n",
       "      <td>NaN</td>\n",
       "      <td>NaN</td>\n",
       "      <td>NaN</td>\n",
       "      <td>NaN</td>\n",
       "      <td>0</td>\n",
       "      <td>USA</td>\n",
       "      <td>New York Stock Exchange</td>\n",
       "    </tr>\n",
       "    <tr>\n",
       "      <th>2189</th>\n",
       "      <td>2024-12-29</td>\n",
       "      <td>close</td>\n",
       "      <td>NaN</td>\n",
       "      <td>NaN</td>\n",
       "      <td>NaN</td>\n",
       "      <td>NaN</td>\n",
       "      <td>0</td>\n",
       "      <td>USA</td>\n",
       "      <td>New York Stock Exchange</td>\n",
       "    </tr>\n",
       "    <tr>\n",
       "      <th>2190</th>\n",
       "      <td>2024-12-30</td>\n",
       "      <td>open</td>\n",
       "      <td>09:30 a.m. ET</td>\n",
       "      <td>04:00 p.m. ET</td>\n",
       "      <td>4:00am - 9:30am ET</td>\n",
       "      <td>4:00pm - 8:00pm ET</td>\n",
       "      <td>0</td>\n",
       "      <td>USA</td>\n",
       "      <td>New York Stock Exchange</td>\n",
       "    </tr>\n",
       "    <tr>\n",
       "      <th>2191</th>\n",
       "      <td>2024-12-31</td>\n",
       "      <td>open</td>\n",
       "      <td>09:30 a.m. ET</td>\n",
       "      <td>04:00 p.m. ET</td>\n",
       "      <td>4:00am - 9:30am ET</td>\n",
       "      <td>4:00pm - 8:00pm ET</td>\n",
       "      <td>0</td>\n",
       "      <td>USA</td>\n",
       "      <td>New York Stock Exchange</td>\n",
       "    </tr>\n",
       "  </tbody>\n",
       "</table>\n",
       "<p>2192 rows × 9 columns</p>\n",
       "</div>"
      ],
      "text/plain": [
       "         dtDate marketStatus    openingHour    closingHour  \\\n",
       "0    2019-01-01        close            NaN            NaN   \n",
       "1    2019-01-02         open  09:30 a.m. ET  04:00 p.m. ET   \n",
       "2    2019-01-03         open  09:30 a.m. ET  04:00 p.m. ET   \n",
       "3    2019-01-04         open  09:30 a.m. ET  04:00 p.m. ET   \n",
       "4    2019-01-05        close            NaN            NaN   \n",
       "...         ...          ...            ...            ...   \n",
       "2187 2024-12-27         open  09:30 a.m. ET  04:00 p.m. ET   \n",
       "2188 2024-12-28        close            NaN            NaN   \n",
       "2189 2024-12-29        close            NaN            NaN   \n",
       "2190 2024-12-30         open  09:30 a.m. ET  04:00 p.m. ET   \n",
       "2191 2024-12-31         open  09:30 a.m. ET  04:00 p.m. ET   \n",
       "\n",
       "               preMarket          postMarket  break country  \\\n",
       "0                    NaN                 NaN      0     USA   \n",
       "1     4:00am - 9:30am ET  4:00pm - 8:00pm ET      0     USA   \n",
       "2     4:00am - 9:30am ET  4:00pm - 8:00pm ET      0     USA   \n",
       "3     4:00am - 9:30am ET  4:00pm - 8:00pm ET      0     USA   \n",
       "4                    NaN                 NaN      0     USA   \n",
       "...                  ...                 ...    ...     ...   \n",
       "2187  4:00am - 9:30am ET  4:00pm - 8:00pm ET      0     USA   \n",
       "2188                 NaN                 NaN      0     USA   \n",
       "2189                 NaN                 NaN      0     USA   \n",
       "2190  4:00am - 9:30am ET  4:00pm - 8:00pm ET      0     USA   \n",
       "2191  4:00am - 9:30am ET  4:00pm - 8:00pm ET      0     USA   \n",
       "\n",
       "                stockExchange  \n",
       "0     New York Stock Exchange  \n",
       "1     New York Stock Exchange  \n",
       "2     New York Stock Exchange  \n",
       "3     New York Stock Exchange  \n",
       "4     New York Stock Exchange  \n",
       "...                       ...  \n",
       "2187  New York Stock Exchange  \n",
       "2188  New York Stock Exchange  \n",
       "2189  New York Stock Exchange  \n",
       "2190  New York Stock Exchange  \n",
       "2191  New York Stock Exchange  \n",
       "\n",
       "[2192 rows x 9 columns]"
      ]
     },
     "execution_count": 29,
     "metadata": {},
     "output_type": "execute_result"
    }
   ],
   "source": [
    "merge_df"
   ]
  },
  {
   "cell_type": "code",
   "execution_count": 30,
   "metadata": {},
   "outputs": [],
   "source": [
    "merge_df[\"url\"] = \"https://site.financialmodelingprep.com/developer/docs/\""
   ]
  },
  {
   "cell_type": "code",
   "execution_count": 31,
   "metadata": {},
   "outputs": [],
   "source": [
    "merge_df.to_csv(\"marketCalender.csv\", index=False)"
   ]
  },
  {
   "cell_type": "code",
   "execution_count": 32,
   "metadata": {},
   "outputs": [],
   "source": [
    "from datetime import datetime"
   ]
  },
  {
   "cell_type": "code",
   "execution_count": 33,
   "metadata": {},
   "outputs": [
    {
     "data": {
      "text/plain": [
       "datetime.datetime(2022, 2, 2, 0, 0)"
      ]
     },
     "execution_count": 33,
     "metadata": {},
     "output_type": "execute_result"
    }
   ],
   "source": [
    "start_date = datetime.strptime(\"2022-2-2\", \"%Y-%m-%d\")\n",
    "start_date"
   ]
  },
  {
   "cell_type": "code",
   "execution_count": 34,
   "metadata": {},
   "outputs": [
    {
     "data": {
      "text/plain": [
       "datetime.datetime(2022, 1, 1, 0, 0)"
      ]
     },
     "execution_count": 34,
     "metadata": {},
     "output_type": "execute_result"
    }
   ],
   "source": [
    "start_date = start_date.replace(month=1, day=1)\n",
    "start_date"
   ]
  }
 ],
 "metadata": {
  "kernelspec": {
   "display_name": "venv",
   "language": "python",
   "name": "python3"
  },
  "language_info": {
   "codemirror_mode": {
    "name": "ipython",
    "version": 3
   },
   "file_extension": ".py",
   "mimetype": "text/x-python",
   "name": "python",
   "nbconvert_exporter": "python",
   "pygments_lexer": "ipython3",
   "version": "3.11.2"
  },
  "orig_nbformat": 4,
  "vscode": {
   "interpreter": {
    "hash": "34b3441b6e337012695bab36f717d512d6f4819efd800de8d0fe70d9aabeb035"
   }
  }
 },
 "nbformat": 4,
 "nbformat_minor": 2
}
